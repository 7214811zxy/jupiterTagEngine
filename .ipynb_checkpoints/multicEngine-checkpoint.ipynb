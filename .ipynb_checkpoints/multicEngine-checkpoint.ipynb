{
 "cells": [
  {
   "cell_type": "code",
   "execution_count": 1,
   "id": "2ce562e6-0c80-4c42-bd73-10779b0e5010",
   "metadata": {},
   "outputs": [],
   "source": [
    "import xlrd\n",
    "import numpy as np\n",
    "from tensorflow.keras.utils import to_categorical"
   ]
  },
  {
   "cell_type": "code",
   "execution_count": 2,
   "id": "ad3442f7-af41-460f-adab-4785756048d1",
   "metadata": {},
   "outputs": [],
   "source": [
    "# 按行打印字典\n",
    "def printDict(dictionary):\n",
    "    for item in dictionary.items():\n",
    "        print(item)\n",
    "        \n",
    "# 按行打印列表\n",
    "def printList(mylist):\n",
    "    for index, value in enumerate(mylist):\n",
    "        print(str(index) + \" \" + str(value))\n",
    "                \n",
    "# 反转字典的key和value\n",
    "def reverseDict(dictionary):\n",
    "    res = {}\n",
    "    for key in dictionary.keys():\n",
    "        value = dictionary[key]\n",
    "        res[value] = key\n",
    "    return res"
   ]
  },
  {
   "cell_type": "code",
   "execution_count": 3,
   "id": "f273b598-495d-4ff7-b520-e181e4d4e5d1",
   "metadata": {
    "tags": []
   },
   "outputs": [],
   "source": [
    "# 根据词典对train data进行编码\n",
    "# INPUT:\n",
    "#  dictionary: {word: index}\n",
    "#  wordList: ['窑尾', '排风机', '风机', '轴承']\n",
    "#  length: 结果向量的最大长度\n",
    "#\n",
    "# OUTPUT:\n",
    "#  [1.0, 3.0, 10.0, 11.0, 0.0, 0.0, 0.0]\n",
    "def encodeWord(dictionary, wordList, length):\n",
    "    resArray = np.zeros(length)\n",
    "    for index, word in enumerate(wordList):\n",
    "        if(word in dictionary):\n",
    "            wordIndex = dictionary[word]\n",
    "            resArray[index] = wordIndex\n",
    "        else:\n",
    "            resArray[index] = 1\n",
    "    return resArray.tolist()\n",
    "\n",
    "# 根据词典批量编码文本\n",
    "def batchEncodeWord(dictionary, wordCol, length):\n",
    "    res = []\n",
    "    for cell in wordSplitCol:\n",
    "        wordList = cell.value.split(\"-\")\n",
    "        wordEncodeList = encodeWord(wordDict, wordList, length)\n",
    "        res.append(wordEncodeList)\n",
    "    return res\n",
    "\n",
    "# 根据excel文件创建字典列表\n",
    "def createDict(wordSplitCol):\n",
    "    res = {}\n",
    "    \n",
    "    # index 0: 保留索引，用于表示广播项\n",
    "    # index 1: 保留索引，用于表示不在辞典中的词\n",
    "    res[\"padding\"] = 0\n",
    "    res[\"?\"] = 1\n",
    "    \n",
    "    index = 2\n",
    "    for cell in wordSplitCol:\n",
    "        wordList = cell.value.split(\"-\")\n",
    "        for word in wordList:\n",
    "            if((word in res) == False):\n",
    "                res[word] = index\n",
    "                index += 1\n",
    "    return res"
   ]
  },
  {
   "cell_type": "code",
   "execution_count": 4,
   "id": "afcf9a66-c43a-4941-9d3a-5734f29c878e",
   "metadata": {},
   "outputs": [],
   "source": [
    "# 根据词典批量编码label\n",
    "def batchEncodeLabel(dictionary, wordCol, length):\n",
    "    res = []\n",
    "    for cell in wordCol:\n",
    "        label = cell.value\n",
    "        labelIndex = dictionary[label]\n",
    "        res.append(labelIndex)\n",
    "    return res\n",
    "\n",
    "# 根据excel文件创建字典列表\n",
    "def createLabelDict(wordSplitCol):\n",
    "    res = {}\n",
    "    index = 0\n",
    "    for cell in wordSplitCol:\n",
    "        word = cell.value\n",
    "        if((word in res) == False):\n",
    "            res[word] = index\n",
    "            index += 1\n",
    "    return res"
   ]
  },
  {
   "cell_type": "code",
   "execution_count": 5,
   "id": "c32d91d4-6f60-4108-ae13-b1212edc6c11",
   "metadata": {},
   "outputs": [],
   "source": [
    "data = xlrd.open_workbook(\"samples/tagSamples.xls\")\n",
    "table = data[1]"
   ]
  },
  {
   "cell_type": "code",
   "execution_count": 6,
   "id": "1827dc65-d51c-4096-9109-4ef1dff26ff9",
   "metadata": {},
   "outputs": [],
   "source": [
    "rawTagNameCol = table.col(0, start_rowx=0, end_rowx=None)\n",
    "systemLabelCol = table.col(1, start_rowx=0, end_rowx=None)\n",
    "wordSplitCol = table.col(2, start_rowx=0, end_rowx=None)"
   ]
  },
  {
   "cell_type": "markdown",
   "id": "232db9dd-b3f5-4145-8675-2188192ae816",
   "metadata": {},
   "source": [
    "## Create train data"
   ]
  },
  {
   "cell_type": "code",
   "execution_count": 7,
   "id": "7a17e15b-0dce-4dde-b4ee-1f07411f9a46",
   "metadata": {},
   "outputs": [],
   "source": [
    "# 创建词典{word: index}\n",
    "wordDict = createDict(wordSplitCol)\n",
    "#printDict(wordDict)\n",
    "\n",
    "# 创建翻转词典{index: word}\n",
    "wordDictReverse = reverseDict(wordDict)\n",
    "\n",
    "# 将文本分词\n",
    "#wordList = wordSplitCol[14].value.split(\"-\")\n",
    "\n",
    "# 将分词后的文本转化为向量表示\n",
    "#wordEncodeList = encodeWord(wordDict, wordList, 7)\n",
    "\n",
    "# 将输入文本根据字典编码\n",
    "wordEncodeList = batchEncodeWord(wordDict, wordSplitCol, 5)\n",
    "#printList(wordEncodeList)"
   ]
  },
  {
   "cell_type": "markdown",
   "id": "15e6b223-30ee-4a44-855b-242af85412f7",
   "metadata": {},
   "source": [
    "## Creat label data"
   ]
  },
  {
   "cell_type": "code",
   "execution_count": 8,
   "id": "40e88fbc-a525-47ac-ac2e-4f03ed92be92",
   "metadata": {},
   "outputs": [],
   "source": [
    "# 创建词典{word: index}\n",
    "labelDict = createLabelDict(systemLabelCol)\n",
    "#printDict(labelDict)\n",
    "\n",
    "# 创建翻转词典{index: word}\n",
    "labelDictRe = reverseDict(labelDict)\n",
    "#printDict(labelDictRe)\n",
    "\n",
    "# 将输入文本根据字典编码\n",
    "labelEncodeList = batchEncodeLabel(labelDict, systemLabelCol, 1)"
   ]
  },
  {
   "cell_type": "code",
   "execution_count": 9,
   "id": "15101cf5-fcc7-4228-a5f7-0041e9e1724f",
   "metadata": {},
   "outputs": [
    {
     "name": "stdout",
     "output_type": "stream",
     "text": [
      "分类数量: 26\n",
      "样本数量: 2794 样本维度: 5\n",
      "字典大小: 702\n"
     ]
    }
   ],
   "source": [
    "print(\"分类数量: \" + str(len(labelDict)))\n",
    "print(\"样本数量: \" + str(len(wordEncodeList)) + \" 样本维度: \" + str(len(wordEncodeList[0])))\n",
    "print(\"字典大小: \" + str(len(wordDict.keys())))"
   ]
  },
  {
   "cell_type": "markdown",
   "id": "a4a7b67f-5b5c-4616-817b-7367d19d9f0e",
   "metadata": {},
   "source": [
    "## Trans to array"
   ]
  },
  {
   "cell_type": "code",
   "execution_count": 10,
   "id": "186a8fcd-b39f-42f6-b032-c10e3a722f7a",
   "metadata": {},
   "outputs": [],
   "source": [
    "def oneHot(dictionary, encodeData):\n",
    "    res = []\n",
    "    length = len(dictionary.keys())\n",
    "    dictionaryRe = reverseDict(dictionary)\n",
    "    for data in encodeData:\n",
    "        dataArray = np.zeros(length)\n",
    "        for item in data:\n",
    "            dataArray[int(item)] = 1\n",
    "        dataOneHot = dataArray.tolist()\n",
    "        res.append(dataOneHot)\n",
    "    return res"
   ]
  },
  {
   "cell_type": "code",
   "execution_count": 11,
   "id": "fec51d33-81e6-40ec-8cea-f520c347fb8b",
   "metadata": {},
   "outputs": [],
   "source": [
    "# oneHot编码label和train数据\n",
    "yData = np.asarray(labelEncodeList)\n",
    "yDataOneHot = to_categorical(yData)\n",
    "\n",
    "xDataOneHot = oneHot(wordDict, wordEncodeList)\n",
    "xDataOneHot = np.asarray(xDataOneHot)\n",
    "\n",
    "#print(xDataOneHot.shape)\n",
    "#print(yDataOneHot.shape)"
   ]
  },
  {
   "cell_type": "markdown",
   "id": "65ddada6-a1a1-4501-921d-000bcdcb3551",
   "metadata": {},
   "source": [
    "## Ready Train Data"
   ]
  },
  {
   "cell_type": "code",
   "execution_count": 12,
   "id": "3cb5d905-2823-4e22-99b9-6bb57a8ac912",
   "metadata": {},
   "outputs": [],
   "source": [
    "# 创建验证集\n",
    "def createValData(random, dataArray):\n",
    "    val = []\n",
    "    train = []\n",
    "    for seed in random:\n",
    "        val.append(dataArray[seed])\n",
    "    \n",
    "    train = np.delete(dataArray, random, axis = 0)\n",
    "            \n",
    "    return np.array(val), train"
   ]
  },
  {
   "cell_type": "code",
   "execution_count": 13,
   "id": "788f24d6-19f6-42fe-b337-6e7aeefdd106",
   "metadata": {},
   "outputs": [],
   "source": [
    "# 生成验证集的随机种子\n",
    "randomSeed = np.random.choice(2000, size=300, replace=False)\n",
    "\n",
    "xVal, xTrain = createValData(randomSeed, xDataOneHot)\n",
    "yVal, yTrain = createValData(randomSeed, yDataOneHot)"
   ]
  },
  {
   "cell_type": "code",
   "execution_count": 14,
   "id": "373e0c4a-e031-47d7-b511-8236a443f02c",
   "metadata": {},
   "outputs": [
    {
     "name": "stdout",
     "output_type": "stream",
     "text": [
      "Val data size：300\n",
      "Val label size：300\n",
      "Train data size：2494\n",
      "Train label size：2494\n"
     ]
    }
   ],
   "source": [
    "print(\"Val data size：\" + str(xVal.shape[0]))\n",
    "print(\"Val label size：\" + str(yVal.shape[0]))\n",
    "\n",
    "print(\"Train data size：\" + str(xTrain.shape[0]))\n",
    "print(\"Train label size：\" + str(yTrain.shape[0]))"
   ]
  },
  {
   "cell_type": "code",
   "execution_count": 15,
   "id": "f8d496e4-4b4d-4130-8428-7ba176ce9d2a",
   "metadata": {},
   "outputs": [],
   "source": [
    "from tensorflow.keras import models\n",
    "from tensorflow.keras import layers\n",
    "\n",
    "model = models.Sequential()\n",
    "model.add(layers.Dense(64, activation='relu', input_shape=(702,)))\n",
    "model.add(layers.Dense(64, activation='relu'))\n",
    "model.add(layers.Dense(26, activation='softmax'))\n",
    "\n",
    "model.compile(optimizer='rmsprop',\n",
    "              loss='categorical_crossentropy',\n",
    "              metrics=['accuracy'])"
   ]
  },
  {
   "cell_type": "code",
   "execution_count": 16,
   "id": "73434293-0a3b-440b-8661-33dd73b78642",
   "metadata": {},
   "outputs": [
    {
     "name": "stdout",
     "output_type": "stream",
     "text": [
      "Epoch 1/20\n",
      "9/9 [==============================] - 0s 30ms/step - loss: 3.2079 - accuracy: 0.1215 - val_loss: 3.0748 - val_accuracy: 0.1900\n",
      "Epoch 2/20\n",
      "9/9 [==============================] - 0s 2ms/step - loss: 2.9952 - accuracy: 0.2482 - val_loss: 2.8552 - val_accuracy: 0.1833\n",
      "Epoch 3/20\n",
      "9/9 [==============================] - 0s 3ms/step - loss: 2.7547 - accuracy: 0.2203 - val_loss: 2.6185 - val_accuracy: 0.1833\n",
      "Epoch 4/20\n",
      "9/9 [==============================] - 0s 3ms/step - loss: 2.5110 - accuracy: 0.2151 - val_loss: 2.4423 - val_accuracy: 0.2033\n",
      "Epoch 5/20\n",
      "9/9 [==============================] - 0s 3ms/step - loss: 2.3129 - accuracy: 0.3062 - val_loss: 2.2909 - val_accuracy: 0.3200\n",
      "Epoch 6/20\n",
      "9/9 [==============================] - 0s 4ms/step - loss: 2.1577 - accuracy: 0.4091 - val_loss: 2.1398 - val_accuracy: 0.4167\n",
      "Epoch 7/20\n",
      "9/9 [==============================] - 0s 3ms/step - loss: 1.9769 - accuracy: 0.4962 - val_loss: 1.9947 - val_accuracy: 0.4533\n",
      "Epoch 8/20\n",
      "9/9 [==============================] - 0s 3ms/step - loss: 1.8340 - accuracy: 0.5200 - val_loss: 1.8473 - val_accuracy: 0.5133\n",
      "Epoch 9/20\n",
      "9/9 [==============================] - 0s 3ms/step - loss: 1.6919 - accuracy: 0.5607 - val_loss: 1.7234 - val_accuracy: 0.5333\n",
      "Epoch 10/20\n",
      "9/9 [==============================] - 0s 3ms/step - loss: 1.5587 - accuracy: 0.5923 - val_loss: 1.5892 - val_accuracy: 0.6600\n",
      "Epoch 11/20\n",
      "9/9 [==============================] - 0s 3ms/step - loss: 1.4597 - accuracy: 0.6586 - val_loss: 1.4697 - val_accuracy: 0.6933\n",
      "Epoch 12/20\n",
      "9/9 [==============================] - 0s 3ms/step - loss: 1.3610 - accuracy: 0.6808 - val_loss: 1.3656 - val_accuracy: 0.7067\n",
      "Epoch 13/20\n",
      "9/9 [==============================] - 0s 3ms/step - loss: 1.2582 - accuracy: 0.7107 - val_loss: 1.2643 - val_accuracy: 0.7133\n",
      "Epoch 14/20\n",
      "9/9 [==============================] - 0s 3ms/step - loss: 1.1099 - accuracy: 0.7551 - val_loss: 1.1688 - val_accuracy: 0.7400\n",
      "Epoch 15/20\n",
      "9/9 [==============================] - 0s 3ms/step - loss: 1.0661 - accuracy: 0.7728 - val_loss: 1.0722 - val_accuracy: 0.7767\n",
      "Epoch 16/20\n",
      "9/9 [==============================] - 0s 3ms/step - loss: 0.9658 - accuracy: 0.8096 - val_loss: 0.9952 - val_accuracy: 0.8233\n",
      "Epoch 17/20\n",
      "9/9 [==============================] - 0s 3ms/step - loss: 0.9098 - accuracy: 0.8318 - val_loss: 0.9244 - val_accuracy: 0.8267\n",
      "Epoch 18/20\n",
      "9/9 [==============================] - 0s 3ms/step - loss: 0.8120 - accuracy: 0.8486 - val_loss: 0.8494 - val_accuracy: 0.8600\n",
      "Epoch 19/20\n",
      "9/9 [==============================] - 0s 3ms/step - loss: 0.7416 - accuracy: 0.8745 - val_loss: 0.8004 - val_accuracy: 0.8567\n",
      "Epoch 20/20\n",
      "9/9 [==============================] - 0s 3ms/step - loss: 0.6733 - accuracy: 0.8780 - val_loss: 0.7386 - val_accuracy: 0.8733\n"
     ]
    }
   ],
   "source": [
    "history = model.fit(xTrain,\n",
    "                    yTrain,\n",
    "                    epochs=20,\n",
    "                    batch_size=300,\n",
    "                    validation_data=(xVal, yVal))"
   ]
  },
  {
   "cell_type": "code",
   "execution_count": 17,
   "id": "c3d35c9e-aed0-46d4-bd23-0d0cc8ef6565",
   "metadata": {},
   "outputs": [
    {
     "data": {
      "image/png": "[encoded data removed]",
      "text/plain": [
       "<Figure size 432x288 with 1 Axes>"
      ]
     },
     "metadata": {
      "needs_background": "light"
     },
     "output_type": "display_data"
    }
   ],
   "source": [
    "import matplotlib.pyplot as plt\n",
    "\n",
    "loss = history.history['loss']\n",
    "val_loss = history.history['val_loss']\n",
    "\n",
    "epochs = range(1, len(loss) + 1)\n",
    "\n",
    "plt.plot(epochs, loss, 'bo', label='Training loss')\n",
    "plt.plot(epochs, val_loss, 'b', label='Validation loss')\n",
    "plt.title('Training and validation loss')\n",
    "plt.xlabel('Epochs')\n",
    "plt.ylabel('Loss')\n",
    "plt.legend()\n",
    "\n",
    "plt.show()"
   ]
  },
  {
   "cell_type": "markdown",
   "id": "241692b3-e065-4fb7-b932-c3e1a11d6431",
   "metadata": {},
   "source": [
    "## Predict"
   ]
  },
  {
   "cell_type": "code",
   "execution_count": 18,
   "id": "1d5378ee-e14c-44bc-9711-8661becd055b",
   "metadata": {},
   "outputs": [],
   "source": [
    "inputVec = xTrain[:1]\n",
    "predictions = model.predict(xTrain[:1])\n",
    "res = predictions[0].tolist()\n",
    "maxIndex = res.index(max(res))"
   ]
  },
  {
   "cell_type": "code",
   "execution_count": 19,
   "id": "0142581b-ed3c-4517-b404-41a74c951a78",
   "metadata": {},
   "outputs": [],
   "source": [
    "# tagDesc = \"窑尾-排风机-出口\"\n",
    "def predict(dictionary, dictionaryLabel, tagName, model):\n",
    "    \n",
    "    # 根据词典编码\n",
    "    encodeData = []\n",
    "    tagNameSplit = tagName.split(\"-\")\n",
    "    tagNameEncode = encodeWord(dictionary, tagNameSplit, 5)\n",
    "    encodeData.append(tagNameEncode)\n",
    "    \n",
    "    # oneCode向量化\n",
    "    tagOneCode = np.array(oneHot(dictionary, encodeData))\n",
    "    \n",
    "    # 预测\n",
    "    predictions = model.predict(tagOneCode[:1])\n",
    "    res = predictions[0].tolist()\n",
    "    maxIndex = res.index(max(res))\n",
    "    probility = res[maxIndex]\n",
    "    \n",
    "    # 解析预测结果\n",
    "    dictionaryLabelRe = reverseDict(dictionaryLabel)\n",
    "    print(\"预测所属系统：\" + str(dictionaryLabelRe[maxIndex]) + \" 预测概率：\" + format(probility*100, '.2f') + \"%\")"
   ]
  },
  {
   "cell_type": "code",
   "execution_count": 20,
   "id": "2a7c742b-3c47-4065-9bb7-f536e00faf11",
   "metadata": {},
   "outputs": [
    {
     "name": "stdout",
     "output_type": "stream",
     "text": [
      "预测所属系统：3-3 预测概率：42.78%\n"
     ]
    }
   ],
   "source": [
    "tag = \"窑尾-除尘器\"\n",
    "predict(wordDict, labelDict, tag, model)"
   ]
  },
  {
   "cell_type": "code",
   "execution_count": 21,
   "id": "78562d0c-5494-4b27-88a8-9af9a6d44742",
   "metadata": {},
   "outputs": [],
   "source": [
    "a = 1\n",
    "b = 3"
   ]
  },
  {
   "cell_type": "code",
   "execution_count": 22,
   "id": "04af012f-54fa-4d73-b348-53d98870549c",
   "metadata": {},
   "outputs": [
    {
     "name": "stdout",
     "output_type": "stream",
     "text": [
      "4\n"
     ]
    }
   ],
   "source": [
    "c = a + b\n",
    "print(c)"
   ]
  },
  {
   "cell_type": "code",
   "execution_count": null,
   "id": "bbed3282-041b-4c79-8a5b-2b013b58d654",
   "metadata": {},
   "outputs": [],
   "source": []
  }
 ],
 "metadata": {
  "kernelspec": {
   "display_name": "Python [conda env:word2vec] *",
   "language": "python",
   "name": "conda-env-word2vec-py"
  },
  "language_info": {
   "codemirror_mode": {
    "name": "ipython",
    "version": 3
   },
   "file_extension": ".py",
   "mimetype": "text/x-python",
   "name": "python",
   "nbconvert_exporter": "python",
   "pygments_lexer": "ipython3",
   "version": "3.8.10"
  }
 },
 "nbformat": 4,
 "nbformat_minor": 5
}
